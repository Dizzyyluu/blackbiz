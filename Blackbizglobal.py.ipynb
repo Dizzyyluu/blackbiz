{
 "cells": [
  {
   "cell_type": "code",
   "execution_count": 21,
   "id": "797b35b0",
   "metadata": {},
   "outputs": [],
   "source": [
    "import requests\n",
    "from bs4 import BeautifulSoup"
   ]
  },
  {
   "cell_type": "code",
   "execution_count": 22,
   "id": "2b02ba08",
   "metadata": {},
   "outputs": [],
   "source": [
    "url = 'https://blackbizglobal.com/directory/page/{}'"
   ]
  },
  {
   "cell_type": "code",
   "execution_count": 23,
   "id": "6eb654a8",
   "metadata": {},
   "outputs": [],
   "source": [
    "site = url.format(1)"
   ]
  },
  {
   "cell_type": "code",
   "execution_count": 24,
   "id": "42954736",
   "metadata": {},
   "outputs": [
    {
     "data": {
      "text/plain": [
       "'https://blackbizglobal.com/directory/page/1'"
      ]
     },
     "execution_count": 24,
     "metadata": {},
     "output_type": "execute_result"
    }
   ],
   "source": [
    "site"
   ]
  },
  {
   "cell_type": "code",
   "execution_count": 25,
   "id": "80c4f51c",
   "metadata": {},
   "outputs": [],
   "source": [
    "response = requests.get(site)"
   ]
  },
  {
   "cell_type": "code",
   "execution_count": 26,
   "id": "badac0e3",
   "metadata": {},
   "outputs": [
    {
     "data": {
      "text/plain": [
       "<Response [200]>"
      ]
     },
     "execution_count": 26,
     "metadata": {},
     "output_type": "execute_result"
    }
   ],
   "source": [
    "response"
   ]
  },
  {
   "cell_type": "code",
   "execution_count": 27,
   "id": "b491560b",
   "metadata": {},
   "outputs": [],
   "source": [
    "soup = BeautifulSoup(response.text, 'html.parser')"
   ]
  },
  {
   "cell_type": "code",
   "execution_count": 28,
   "id": "51156626",
   "metadata": {},
   "outputs": [],
   "source": [
    "name = soup.find_all(\"li\", class_=\"wcfmmp-single-store\")"
   ]
  },
  {
   "cell_type": "code",
   "execution_count": 29,
   "id": "0afd9698",
   "metadata": {},
   "outputs": [
    {
     "data": {
      "text/plain": [
       "40"
      ]
     },
     "execution_count": 29,
     "metadata": {},
     "output_type": "execute_result"
    }
   ],
   "source": [
    "len(name)"
   ]
  },
  {
   "cell_type": "code",
   "execution_count": 30,
   "id": "1a6c5fd3",
   "metadata": {},
   "outputs": [],
   "source": [
    "card = name[0]"
   ]
  },
  {
   "cell_type": "code",
   "execution_count": 31,
   "id": "b57f5344",
   "metadata": {},
   "outputs": [],
   "source": [
    "name = card.find('div', class_ = 'store-data')"
   ]
  },
  {
   "cell_type": "code",
   "execution_count": 32,
   "id": "f0509583",
   "metadata": {},
   "outputs": [],
   "source": [
    "htag = name.h2.a.text.strip()"
   ]
  },
  {
   "cell_type": "code",
   "execution_count": 26,
   "id": "794f9983",
   "metadata": {},
   "outputs": [
    {
     "data": {
      "text/plain": [
       "'Heavenly Lox'"
      ]
     },
     "execution_count": 26,
     "metadata": {},
     "output_type": "execute_result"
    }
   ],
   "source": [
    "htag"
   ]
  },
  {
   "cell_type": "code",
   "execution_count": null,
   "id": "d709b23b",
   "metadata": {},
   "outputs": [],
   "source": [
    "location"
   ]
  },
  {
   "cell_type": "code",
   "execution_count": 28,
   "id": "2663b8fb",
   "metadata": {},
   "outputs": [],
   "source": [
    "location = card.find('p', class_='store-address').text.strip()"
   ]
  },
  {
   "cell_type": "code",
   "execution_count": null,
   "id": "bcd1dc88",
   "metadata": {},
   "outputs": [],
   "source": [
    "location"
   ]
  },
  {
   "cell_type": "code",
   "execution_count": null,
   "id": "73a2d1e2",
   "metadata": {},
   "outputs": [],
   "source": [
    "company_phone = card.find('p', class_='store-phone').find_('i', class_='wcfmfa fa-phone')\n",
    "company_phone.text.strip()"
   ]
  },
  {
   "cell_type": "code",
   "execution_count": 74,
   "id": "af9c4ff4",
   "metadata": {},
   "outputs": [
    {
     "data": {
      "text/plain": [
       "'N/A'"
      ]
     },
     "execution_count": 74,
     "metadata": {},
     "output_type": "execute_result"
    }
   ],
   "source": [
    "email"
   ]
  },
  {
   "cell_type": "code",
   "execution_count": 34,
   "id": "cf24a5db",
   "metadata": {},
   "outputs": [],
   "source": [
    "syn = card.find_all('p', class_='store-phone') # this returns list of values\n",
    "second_ul = syn[0].get_text()\n",
    "third_ul = syn[1].get_text()\n"
   ]
  },
  {
   "cell_type": "code",
   "execution_count": 35,
   "id": "f1f4a9df",
   "metadata": {},
   "outputs": [
    {
     "data": {
      "text/plain": [
       "'\\n heavenlylox@gmail.com\\t\\t\\t\\t\\t\\t'"
      ]
     },
     "execution_count": 35,
     "metadata": {},
     "output_type": "execute_result"
    }
   ],
   "source": [
    "second_ul"
   ]
  },
  {
   "cell_type": "code",
   "execution_count": null,
   "id": "edfd079d",
   "metadata": {},
   "outputs": [],
   "source": [
    "from bs4 import BeautifulSoup\n",
    "import requests\n",
    "\n",
    "def get_url(page):\n",
    "    site = 'https://blackbizglobal.com/directory/page/{}'\n",
    "    url = site.format(page)\n",
    "    return url\n",
    "\n",
    "def get_record(card):\n",
    "    name = card.find('div', class_='store-data')\n",
    "    company_name = name.h2.a.text.strip() if name else ''\n",
    "    location_info = card.find('p', class_='store-address')\n",
    "    location = location_info.text.strip() if location_info else ''\n",
    "    contact_info = card.find_all('p', class_='store-phone') # this returns list of values\n",
    "    email = contact_info[0].get_text().strip() if len(contact_info) > 0 else ''\n",
    "    phone = contact_info[1].get_text().strip() if len(contact_info) > 1 else ''\n",
    "    record = (company_name + \"\\n\\n\" + location + \"\\n\\n\" + email + \"\\n\\n\" + phone + \"\\n\\n\")\n",
    "    \n",
    "    \n",
    "    \n",
    "    \n",
    "    return record\n",
    "\n",
    "\n",
    "def main():\n",
    "    records = []\n",
    "    page = 1\n",
    "    while True:\n",
    "        url = get_url(page)\n",
    "\n",
    "        response = requests.get(url)\n",
    "        soup = BeautifulSoup(response.text, 'html.parser')\n",
    "        cards = soup.find_all(\"li\", class_=\"wcfmmp-single-store\")\n",
    "        \n",
    "        if not cards:\n",
    "            break\n",
    "        \n",
    "        for card in cards:\n",
    "            record = get_record(card)\n",
    "            records.append(record)\n",
    "        \n",
    "        page += 1\n",
    "    \n",
    "    return records\n",
    "\n",
    "if __name__ == '__main__':\n",
    "    records = main()\n",
    "    print('\\n')\n",
    "    print(f\"Total records found: {len(records)}\" + '\\n')\n",
    "    \n",
    "    for record in records:\n",
    "        print(record)\n",
    "        print('*------------*')"
   ]
  },
  {
   "cell_type": "code",
   "execution_count": null,
   "id": "382d4685",
   "metadata": {},
   "outputs": [],
   "source": []
  }
 ],
 "metadata": {
  "kernelspec": {
   "display_name": "Python 3 (ipykernel)",
   "language": "python",
   "name": "python3"
  },
  "language_info": {
   "codemirror_mode": {
    "name": "ipython",
    "version": 3
   },
   "file_extension": ".py",
   "mimetype": "text/x-python",
   "name": "python",
   "nbconvert_exporter": "python",
   "pygments_lexer": "ipython3",
   "version": "3.9.12"
  }
 },
 "nbformat": 4,
 "nbformat_minor": 5
}
